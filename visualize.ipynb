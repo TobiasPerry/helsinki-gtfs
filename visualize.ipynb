{
 "cells": [
  {
   "cell_type": "code",
   "metadata": {
    "collapsed": true,
    "ExecuteTime": {
     "end_time": "2025-07-18T21:04:39.033282Z",
     "start_time": "2025-07-18T21:04:38.984510Z"
    }
   },
   "source": [
    "# Library imports\n",
    "import duckdb\n",
    "import pandas as pd\n",
    "import plotly.express as px\n",
    "\n",
    "# Path to the Parquet file\n",
    "parquet_file = \"hsl_vehicle_positions.parquet\"\n",
    "\n",
    "# Function that extracts trajectory of one vehicle from route 1\n",
    "def query_tram1_trajectory(parquet_file):\n",
    "    # Connect to DuckDB in-memory database\n",
    "    con = duckdb.connect()\n",
    "    query = f\"\"\"\n",
    "    SELECT *\n",
    "    FROM parquet_scan('{parquet_file}')\n",
    "    WHERE route_id = '2201B'\n",
    "      AND vehicle_id IS NOT NULL\n",
    "      AND latitude IS NOT NULL AND longitude IS NOT NULL\n",
    "    ORDER BY vehicle_id, timestamp\n",
    "    \"\"\"\n",
    "    df = con.execute(query).fetchdf()\n",
    "    con.close()\n",
    "    return df\n",
    "\n",
    "# Function to visualize the trajectory using Plotly\n",
    "def visualize_tram1_trajectory(df):\n",
    "    if df.empty:\n",
    "        print(\"No data available for Tram 1.\")\n",
    "        return\n",
    "    # Optionally filter a single vehicle to visualize\n",
    "    vehicle_id = df['vehicle_id'].unique()[0]\n",
    "    df = df[df['vehicle_id'] == vehicle_id]\n",
    "\n",
    "    fig = px.scatter_mapbox(\n",
    "        df,\n",
    "        lat=\"latitude\",\n",
    "        lon=\"longitude\",\n",
    "        hover_name=\"vehicle_id\",\n",
    "        hover_data=[\"route_id\", \"start_time\", \"direction_id\", \"speed\"],\n",
    "        color=\"speed\",\n",
    "        color_continuous_scale=\"Hot\",\n",
    "        title=f\"Trajectory of Tram Route 1 – Vehicle {vehicle_id}\",\n",
    "        zoom=12\n",
    "    )\n",
    "    fig.update_layout(\n",
    "        mapbox_style=\"open-street-map\",\n",
    "        mapbox_center={\"lat\": 60.1695, \"lon\": 24.9354},  # Centered on Helsinki\n",
    "        margin={\"r\": 0, \"t\": 0, \"l\": 0, \"b\": 0}\n",
    "    )\n",
    "    fig.show()\n",
    "\n",
    "# Optional: Inspect schema\n",
    "def inspect_parquet_schema(parquet_file):\n",
    "    con = duckdb.connect()\n",
    "    query = f\"DESCRIBE SELECT * FROM parquet_scan('{parquet_file}')\"\n",
    "    schema_df = con.execute(query).fetchdf()\n",
    "    con.close()\n",
    "    print(schema_df)\n",
    "\n",
    "# Optional: Preview data\n",
    "def inspect_parquet_head(parquet_file, n=5):\n",
    "    df = pd.read_parquet(parquet_file)\n",
    "    print(\"Columns:\", df.columns.tolist())\n",
    "    print(df.head(n).to_string(index=False))\n",
    "\n",
    "# Main script\n",
    "if __name__ == \"__main__\":\n",
    "    inspect_parquet_head(parquet_file, n=5)\n",
    "    inspect_parquet_schema(parquet_file)\n",
    "    # tram1_df = query_tram1_trajectory(parquet_file)\n",
    "    # if not tram1_df.empty:\n",
    "    #     visualize_tram1_trajectory(tram1_df)\n",
    "    # else:\n",
    "    #     print(\"No data found for Tram 1.\")\n"
   ],
   "outputs": [
    {
     "name": "stdout",
     "output_type": "stream",
     "text": [
      "Columns: ['id', 'route_id', 'direction_id', 'start_time', 'start_date', 'schedule_relationship', 'latitude', 'longitude', 'bearing', 'odometer', 'speed', 'current_status', 'occupancy_status', 'timestamp', 'stop_id', 'vehicle_id', 'vehicle_label', 'vehicle_license_plate']\n",
      "                      id route_id  direction_id start_time start_date  schedule_relationship  latitude  longitude  bearing  odometer     speed  current_status  occupancy_status  timestamp stop_id vehicle_id vehicle_label vehicle_license_plate\n",
      "vehicle_position_18/1043    2201B             1   09:00:00   20250718                      0 60.211117  24.933647      0.0       0.0  0.000000               2                 0 1752798213 1463113    18/1043          None                  None\n",
      "vehicle_position_90/6318    3001R             1   23:52:00   20250717                      0 60.735298  24.781322    169.0       0.0  0.000000               2                 0 1752798213            90/6318          None                  None\n",
      "vehicle_position_90/6313    3001T             1   02:55:00   20250718                      0 60.462688  25.099850    169.0       0.0 75.455997               2                 0 1752798213 9040505    90/6313          None                  None\n",
      "vehicle_position_90/6325    3001T             0   25:51:00   20250717                      0 60.734795  24.781530    347.0       0.0  0.072000               1                 0 1752798213 5010506    90/6325          None                  None\n",
      "vehicle_position_90/1048    3001I             0   24:39:00   20250717                      0 60.174217  24.939863    178.0   49937.0  0.000000               1                 0 1752798213 1020552    90/1048          None                  None\n",
      "              column_name column_type null   key default extra\n",
      "0                      id     VARCHAR  YES  None    None  None\n",
      "1                route_id     VARCHAR  YES  None    None  None\n",
      "2            direction_id      BIGINT  YES  None    None  None\n",
      "3              start_time     VARCHAR  YES  None    None  None\n",
      "4              start_date     VARCHAR  YES  None    None  None\n",
      "5   schedule_relationship      BIGINT  YES  None    None  None\n",
      "6                latitude      DOUBLE  YES  None    None  None\n",
      "7               longitude      DOUBLE  YES  None    None  None\n",
      "8                 bearing      DOUBLE  YES  None    None  None\n",
      "9                odometer      DOUBLE  YES  None    None  None\n",
      "10                  speed      DOUBLE  YES  None    None  None\n",
      "11         current_status      BIGINT  YES  None    None  None\n",
      "12       occupancy_status      BIGINT  YES  None    None  None\n",
      "13              timestamp      BIGINT  YES  None    None  None\n",
      "14                stop_id     VARCHAR  YES  None    None  None\n",
      "15             vehicle_id     VARCHAR  YES  None    None  None\n",
      "16          vehicle_label     INTEGER  YES  None    None  None\n",
      "17  vehicle_license_plate     INTEGER  YES  None    None  None\n"
     ]
    }
   ],
   "execution_count": 10
  },
  {
   "cell_type": "code",
   "execution_count": null,
   "outputs": [],
   "source": [],
   "metadata": {
    "collapsed": false
   }
  }
 ],
 "metadata": {
  "kernelspec": {
   "display_name": "Python 3",
   "language": "python",
   "name": "python3"
  },
  "language_info": {
   "codemirror_mode": {
    "name": "ipython",
    "version": 2
   },
   "file_extension": ".py",
   "mimetype": "text/x-python",
   "name": "python",
   "nbconvert_exporter": "python",
   "pygments_lexer": "ipython2",
   "version": "2.7.6"
  }
 },
 "nbformat": 4,
 "nbformat_minor": 0
}
