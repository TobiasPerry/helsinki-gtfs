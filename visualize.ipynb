{
 "cells": [
  {
   "cell_type": "code",
   "execution_count": 2,
   "metadata": {
    "collapsed": true,
    "ExecuteTime": {
     "end_time": "2025-07-18T00:30:38.303555200Z",
     "start_time": "2025-07-18T00:30:38.218161300Z"
    }
   },
   "outputs": [
    {
     "name": "stderr",
     "output_type": "stream",
     "text": [
      "C:\\Users\\tobia\\AppData\\Local\\Temp\\ipykernel_17660\\1129330606.py:34: DeprecationWarning:\n",
      "\n",
      "*scatter_mapbox* is deprecated! Use *scatter_map* instead. Learn more at: https://plotly.com/python/mapbox-to-maplibre/\n",
      "\n"
     ]
    },
    {
     "data": {
      "application/vnd.plotly.v1+json": {
       "data": [
        {
         "customdata": [
          [
           "2201B",
           "09:00:00",
           1,
           0.0
          ],
          [
           "2201B",
           "09:00:00",
           1,
           0.0
          ],
          [
           "2201B",
           "09:00:00",
           1,
           0.0359999991953373
          ],
          [
           "2201B",
           "09:00:00",
           1,
           0.0
          ],
          [
           "2201B",
           "09:00:00",
           1,
           0.0
          ],
          [
           "2201B",
           "09:00:00",
           1,
           0.0
          ],
          [
           "2201B",
           "09:00:00",
           1,
           0.0
          ],
          [
           "2201B",
           "09:00:00",
           1,
           0.0
          ],
          [
           "2201B",
           "09:00:00",
           1,
           0.0359999991953373
          ],
          [
           "2201B",
           "09:00:00",
           1,
           0.0359999991953373
          ],
          [
           "2201B",
           "09:00:00",
           1,
           0.0
          ],
          [
           "2201B",
           "09:00:00",
           1,
           0.0
          ],
          [
           "2201B",
           "09:00:00",
           1,
           0.0359999991953373
          ],
          [
           "2201B",
           "09:00:00",
           1,
           0.0
          ],
          [
           "2201B",
           "09:00:00",
           1,
           0.0
          ],
          [
           "2201B",
           "09:00:00",
           1,
           0.0359999991953373
          ],
          [
           "2201B",
           "09:00:00",
           1,
           0.0
          ],
          [
           "2201B",
           "09:00:00",
           1,
           0.0
          ],
          [
           "2201B",
           "09:00:00",
           1,
           0.0
          ],
          [
           "2201B",
           "09:00:00",
           1,
           0.0
          ],
          [
           "2201B",
           "09:00:00",
           1,
           0.0
          ],
          [
           "2201B",
           "09:00:00",
           1,
           0.0
          ],
          [
           "2201B",
           "09:00:00",
           1,
           0.0
          ],
          [
           "2201B",
           "09:00:00",
           1,
           0.0
          ],
          [
           "2201B",
           "09:00:00",
           1,
           0.0
          ],
          [
           "2201B",
           "09:00:00",
           1,
           0.0
          ],
          [
           "2201B",
           "09:00:00",
           1,
           0.0
          ],
          [
           "2201B",
           "09:00:00",
           1,
           0.0
          ],
          [
           "2201B",
           "09:00:00",
           1,
           0.0
          ],
          [
           "2201B",
           "09:00:00",
           1,
           0.0
          ],
          [
           "2201B",
           "09:00:00",
           1,
           0.0
          ],
          [
           "2201B",
           "09:00:00",
           1,
           0.0
          ],
          [
           "2201B",
           "09:00:00",
           1,
           0.0
          ],
          [
           "2201B",
           "09:00:00",
           1,
           0.0
          ],
          [
           "2201B",
           "09:00:00",
           1,
           0.0
          ],
          [
           "2201B",
           "09:00:00",
           1,
           0.0
          ],
          [
           "2201B",
           "09:00:00",
           1,
           0.0
          ],
          [
           "2201B",
           "09:00:00",
           1,
           0.0
          ],
          [
           "2201B",
           "09:00:00",
           1,
           0.0
          ],
          [
           "2201B",
           "09:00:00",
           1,
           0.0
          ],
          [
           "2201B",
           "09:00:00",
           1,
           0.0
          ],
          [
           "2201B",
           "09:00:00",
           1,
           0.0
          ],
          [
           "2201B",
           "09:00:00",
           1,
           0.0
          ],
          [
           "2201B",
           "09:00:00",
           1,
           0.0
          ],
          [
           "2201B",
           "09:00:00",
           1,
           0.0
          ],
          [
           "2201B",
           "09:00:00",
           1,
           0.0
          ],
          [
           "2201B",
           "09:00:00",
           1,
           0.0
          ],
          [
           "2201B",
           "09:00:00",
           1,
           0.0
          ],
          [
           "2201B",
           "09:00:00",
           1,
           0.0
          ],
          [
           "2201B",
           "09:00:00",
           1,
           0.0
          ],
          [
           "2201B",
           "09:00:00",
           1,
           0.0
          ],
          [
           "2201B",
           "09:00:00",
           1,
           0.0
          ],
          [
           "2201B",
           "09:00:00",
           1,
           0.0
          ],
          [
           "2201B",
           "09:00:00",
           1,
           0.0
          ],
          [
           "2201B",
           "09:00:00",
           1,
           0.0
          ],
          [
           "2201B",
           "09:00:00",
           1,
           0.0
          ],
          [
           "2201B",
           "09:00:00",
           1,
           0.0
          ],
          [
           "2201B",
           "09:00:00",
           1,
           0.0
          ],
          [
           "2201B",
           "09:00:00",
           1,
           0.0
          ],
          [
           "2201B",
           "09:00:00",
           1,
           0.0
          ],
          [
           "2201B",
           "09:00:00",
           1,
           0.0
          ]
         ],
         "hovertemplate": "<b>%{hovertext}</b><br><br>latitude=%{lat}<br>longitude=%{lon}<br>route_id=%{customdata[0]}<br>start_time=%{customdata[1]}<br>direction_id=%{customdata[2]}<br>speed=%{marker.color}<extra></extra>",
         "hovertext": [
          "18/1043",
          "18/1043",
          "18/1043",
          "18/1043",
          "18/1043",
          "18/1043",
          "18/1043",
          "18/1043",
          "18/1043",
          "18/1043",
          "18/1043",
          "18/1043",
          "18/1043",
          "18/1043",
          "18/1043",
          "18/1043",
          "18/1043",
          "18/1043",
          "18/1043",
          "18/1043",
          "18/1043",
          "18/1043",
          "18/1043",
          "18/1043",
          "18/1043",
          "18/1043",
          "18/1043",
          "18/1043",
          "18/1043",
          "18/1043",
          "18/1043",
          "18/1043",
          "18/1043",
          "18/1043",
          "18/1043",
          "18/1043",
          "18/1043",
          "18/1043",
          "18/1043",
          "18/1043",
          "18/1043",
          "18/1043",
          "18/1043",
          "18/1043",
          "18/1043",
          "18/1043",
          "18/1043",
          "18/1043",
          "18/1043",
          "18/1043",
          "18/1043",
          "18/1043",
          "18/1043",
          "18/1043",
          "18/1043",
          "18/1043",
          "18/1043",
          "18/1043",
          "18/1043",
          "18/1043",
          "18/1043"
         ],
         "lat": {
          "dtype": "f8",
          "bdata": "AAAA4AUbTkAAAADgBRtOQAAAAOAFG05AAAAA4AUbTkAAAADgBRtOQAAAAOAFG05AAAAA4AUbTkAAAADgBRtOQAAAAOAFG05AAAAA4AUbTkAAAADgBRtOQAAAAOAFG05AAAAA4AUbTkAAAADgBRtOQAAAAOAFG05AAAAA4AUbTkAAAADgBRtOQAAAAOAFG05AAAAA4AUbTkAAAADgBRtOQAAAAOAFG05AAAAA4AUbTkAAAADgBRtOQAAAAOAFG05AAAAA4AUbTkAAAADgBRtOQAAAAOAFG05AAAAA4AUbTkAAAADgBRtOQAAAAOAFG05AAAAA4AUbTkAAAADgBRtOQAAAAOAFG05AAAAA4AUbTkAAAADgBRtOQAAAAOAFG05AAAAA4AUbTkAAAADgBRtOQAAAAOAFG05AAAAA4AUbTkAAAADgBRtOQAAAAOAFG05AAAAA4AUbTkAAAADgBRtOQAAAAOAFG05AAAAA4AUbTkAAAADgBRtOQAAAAOAFG05AAAAA4AUbTkAAAADgBRtOQAAAAOAFG05AAAAA4AUbTkAAAADgBRtOQAAAAOAFG05AAAAA4AUbTkAAAADgBRtOQAAAAOAFG05AAAAA4AUbTkAAAADgBRtOQAAAAOAFG05AAAAA4AUbTkA="
         },
         "legendgroup": "",
         "lon": {
          "dtype": "f8",
          "bdata": "AAAAgAPvOEAAAACAA+84QAAAAIAD7zhAAAAAYAPvOEAAAABgA+84QAAAAGAD7zhAAAAAQAPvOEAAAABAA+84QAAAAEAD7zhAAAAAQAPvOEAAAABAA+84QAAAAEAD7zhAAAAAIAPvOEAAAAAgA+84QAAAACAD7zhAAAAAIAPvOEAAAAAgA+84QAAAACAD7zhAAAAAIAPvOEAAAAAgA+84QAAAACAD7zhAAAAAIAPvOEAAAAAgA+84QAAAACAD7zhAAAAAIAPvOEAAAAAgA+84QAAAACAD7zhAAAAAIAPvOEAAAAAgA+84QAAAACAD7zhAAAAAIAPvOEAAAAAgA+84QAAAACAD7zhAAAAAIAPvOEAAAAAgA+84QAAAACAD7zhAAAAAIAPvOEAAAAAgA+84QAAAACAD7zhAAAAAIAPvOEAAAAAgA+84QAAAACAD7zhAAAAAIAPvOEAAAAAgA+84QAAAACAD7zhAAAAAIAPvOEAAAAAgA+84QAAAACAD7zhAAAAAIAPvOEAAAAAgA+84QAAAACAD7zhAAAAAIAPvOEAAAAAgA+84QAAAACAD7zhAAAAAIAPvOEAAAAAgA+84QAAAACAD7zhAAAAAIAPvOEAAAAAgA+84QAAAACAD7zhAAAAAIAPvOEA="
         },
         "marker": {
          "color": {
           "dtype": "f8",
           "bdata": "AAAAAAAAAAAAAAAAAAAAAGdmZoaXbqI/AAAAAAAAAAAAAAAAAAAAAAAAAAAAAAAAAAAAAAAAAAAAAAAAAAAAAGdmZoaXbqI/Z2Zmhpduoj8AAAAAAAAAAAAAAAAAAAAAZ2Zmhpduoj8AAAAAAAAAAAAAAAAAAAAAZ2Zmhpduoj8AAAAAAAAAAAAAAAAAAAAAAAAAAAAAAAAAAAAAAAAAAAAAAAAAAAAAAAAAAAAAAAAAAAAAAAAAAAAAAAAAAAAAAAAAAAAAAAAAAAAAAAAAAAAAAAAAAAAAAAAAAAAAAAAAAAAAAAAAAAAAAAAAAAAAAAAAAAAAAAAAAAAAAAAAAAAAAAAAAAAAAAAAAAAAAAAAAAAAAAAAAAAAAAAAAAAAAAAAAAAAAAAAAAAAAAAAAAAAAAAAAAAAAAAAAAAAAAAAAAAAAAAAAAAAAAAAAAAAAAAAAAAAAAAAAAAAAAAAAAAAAAAAAAAAAAAAAAAAAAAAAAAAAAAAAAAAAAAAAAAAAAAAAAAAAAAAAAAAAAAAAAAAAAAAAAAAAAAAAAAAAAAAAAAAAAAAAAAAAAAAAAAAAAAAAAAAAAAAAAAAAAAAAAAAAAAAAAAAAAAAAAAAAAAAAAAAAAAAAAAAAAAAAAAAAAAAAAAAAAA="
          },
          "coloraxis": "coloraxis"
         },
         "mode": "markers",
         "name": "",
         "showlegend": false,
         "subplot": "mapbox",
         "type": "scattermapbox"
        }
       ],
       "layout": {
        "template": {
         "data": {
          "histogram2dcontour": [
           {
            "type": "histogram2dcontour",
            "colorbar": {
             "outlinewidth": 0,
             "ticks": ""
            },
            "colorscale": [
             [
              0.0,
              "#0d0887"
             ],
             [
              0.1111111111111111,
              "#46039f"
             ],
             [
              0.2222222222222222,
              "#7201a8"
             ],
             [
              0.3333333333333333,
              "#9c179e"
             ],
             [
              0.4444444444444444,
              "#bd3786"
             ],
             [
              0.5555555555555556,
              "#d8576b"
             ],
             [
              0.6666666666666666,
              "#ed7953"
             ],
             [
              0.7777777777777778,
              "#fb9f3a"
             ],
             [
              0.8888888888888888,
              "#fdca26"
             ],
             [
              1.0,
              "#f0f921"
             ]
            ]
           }
          ],
          "choropleth": [
           {
            "type": "choropleth",
            "colorbar": {
             "outlinewidth": 0,
             "ticks": ""
            }
           }
          ],
          "histogram2d": [
           {
            "type": "histogram2d",
            "colorbar": {
             "outlinewidth": 0,
             "ticks": ""
            },
            "colorscale": [
             [
              0.0,
              "#0d0887"
             ],
             [
              0.1111111111111111,
              "#46039f"
             ],
             [
              0.2222222222222222,
              "#7201a8"
             ],
             [
              0.3333333333333333,
              "#9c179e"
             ],
             [
              0.4444444444444444,
              "#bd3786"
             ],
             [
              0.5555555555555556,
              "#d8576b"
             ],
             [
              0.6666666666666666,
              "#ed7953"
             ],
             [
              0.7777777777777778,
              "#fb9f3a"
             ],
             [
              0.8888888888888888,
              "#fdca26"
             ],
             [
              1.0,
              "#f0f921"
             ]
            ]
           }
          ],
          "heatmap": [
           {
            "type": "heatmap",
            "colorbar": {
             "outlinewidth": 0,
             "ticks": ""
            },
            "colorscale": [
             [
              0.0,
              "#0d0887"
             ],
             [
              0.1111111111111111,
              "#46039f"
             ],
             [
              0.2222222222222222,
              "#7201a8"
             ],
             [
              0.3333333333333333,
              "#9c179e"
             ],
             [
              0.4444444444444444,
              "#bd3786"
             ],
             [
              0.5555555555555556,
              "#d8576b"
             ],
             [
              0.6666666666666666,
              "#ed7953"
             ],
             [
              0.7777777777777778,
              "#fb9f3a"
             ],
             [
              0.8888888888888888,
              "#fdca26"
             ],
             [
              1.0,
              "#f0f921"
             ]
            ]
           }
          ],
          "contourcarpet": [
           {
            "type": "contourcarpet",
            "colorbar": {
             "outlinewidth": 0,
             "ticks": ""
            }
           }
          ],
          "contour": [
           {
            "type": "contour",
            "colorbar": {
             "outlinewidth": 0,
             "ticks": ""
            },
            "colorscale": [
             [
              0.0,
              "#0d0887"
             ],
             [
              0.1111111111111111,
              "#46039f"
             ],
             [
              0.2222222222222222,
              "#7201a8"
             ],
             [
              0.3333333333333333,
              "#9c179e"
             ],
             [
              0.4444444444444444,
              "#bd3786"
             ],
             [
              0.5555555555555556,
              "#d8576b"
             ],
             [
              0.6666666666666666,
              "#ed7953"
             ],
             [
              0.7777777777777778,
              "#fb9f3a"
             ],
             [
              0.8888888888888888,
              "#fdca26"
             ],
             [
              1.0,
              "#f0f921"
             ]
            ]
           }
          ],
          "surface": [
           {
            "type": "surface",
            "colorbar": {
             "outlinewidth": 0,
             "ticks": ""
            },
            "colorscale": [
             [
              0.0,
              "#0d0887"
             ],
             [
              0.1111111111111111,
              "#46039f"
             ],
             [
              0.2222222222222222,
              "#7201a8"
             ],
             [
              0.3333333333333333,
              "#9c179e"
             ],
             [
              0.4444444444444444,
              "#bd3786"
             ],
             [
              0.5555555555555556,
              "#d8576b"
             ],
             [
              0.6666666666666666,
              "#ed7953"
             ],
             [
              0.7777777777777778,
              "#fb9f3a"
             ],
             [
              0.8888888888888888,
              "#fdca26"
             ],
             [
              1.0,
              "#f0f921"
             ]
            ]
           }
          ],
          "mesh3d": [
           {
            "type": "mesh3d",
            "colorbar": {
             "outlinewidth": 0,
             "ticks": ""
            }
           }
          ],
          "scatter": [
           {
            "marker": {
             "line": {
              "color": "#283442"
             }
            },
            "type": "scatter"
           }
          ],
          "parcoords": [
           {
            "type": "parcoords",
            "line": {
             "colorbar": {
              "outlinewidth": 0,
              "ticks": ""
             }
            }
           }
          ],
          "scatterpolargl": [
           {
            "type": "scatterpolargl",
            "marker": {
             "colorbar": {
              "outlinewidth": 0,
              "ticks": ""
             }
            }
           }
          ],
          "bar": [
           {
            "error_x": {
             "color": "#f2f5fa"
            },
            "error_y": {
             "color": "#f2f5fa"
            },
            "marker": {
             "line": {
              "color": "rgb(17,17,17)",
              "width": 0.5
             },
             "pattern": {
              "fillmode": "overlay",
              "size": 10,
              "solidity": 0.2
             }
            },
            "type": "bar"
           }
          ],
          "scattergeo": [
           {
            "type": "scattergeo",
            "marker": {
             "colorbar": {
              "outlinewidth": 0,
              "ticks": ""
             }
            }
           }
          ],
          "scatterpolar": [
           {
            "type": "scatterpolar",
            "marker": {
             "colorbar": {
              "outlinewidth": 0,
              "ticks": ""
             }
            }
           }
          ],
          "histogram": [
           {
            "marker": {
             "pattern": {
              "fillmode": "overlay",
              "size": 10,
              "solidity": 0.2
             }
            },
            "type": "histogram"
           }
          ],
          "scattergl": [
           {
            "marker": {
             "line": {
              "color": "#283442"
             }
            },
            "type": "scattergl"
           }
          ],
          "scatter3d": [
           {
            "type": "scatter3d",
            "line": {
             "colorbar": {
              "outlinewidth": 0,
              "ticks": ""
             }
            },
            "marker": {
             "colorbar": {
              "outlinewidth": 0,
              "ticks": ""
             }
            }
           }
          ],
          "scattermap": [
           {
            "type": "scattermap",
            "marker": {
             "colorbar": {
              "outlinewidth": 0,
              "ticks": ""
             }
            }
           }
          ],
          "scattermapbox": [
           {
            "type": "scattermapbox",
            "marker": {
             "colorbar": {
              "outlinewidth": 0,
              "ticks": ""
             }
            }
           }
          ],
          "scatterternary": [
           {
            "type": "scatterternary",
            "marker": {
             "colorbar": {
              "outlinewidth": 0,
              "ticks": ""
             }
            }
           }
          ],
          "scattercarpet": [
           {
            "type": "scattercarpet",
            "marker": {
             "colorbar": {
              "outlinewidth": 0,
              "ticks": ""
             }
            }
           }
          ],
          "carpet": [
           {
            "aaxis": {
             "endlinecolor": "#A2B1C6",
             "gridcolor": "#506784",
             "linecolor": "#506784",
             "minorgridcolor": "#506784",
             "startlinecolor": "#A2B1C6"
            },
            "baxis": {
             "endlinecolor": "#A2B1C6",
             "gridcolor": "#506784",
             "linecolor": "#506784",
             "minorgridcolor": "#506784",
             "startlinecolor": "#A2B1C6"
            },
            "type": "carpet"
           }
          ],
          "table": [
           {
            "cells": {
             "fill": {
              "color": "#506784"
             },
             "line": {
              "color": "rgb(17,17,17)"
             }
            },
            "header": {
             "fill": {
              "color": "#2a3f5f"
             },
             "line": {
              "color": "rgb(17,17,17)"
             }
            },
            "type": "table"
           }
          ],
          "barpolar": [
           {
            "marker": {
             "line": {
              "color": "rgb(17,17,17)",
              "width": 0.5
             },
             "pattern": {
              "fillmode": "overlay",
              "size": 10,
              "solidity": 0.2
             }
            },
            "type": "barpolar"
           }
          ],
          "pie": [
           {
            "automargin": true,
            "type": "pie"
           }
          ]
         },
         "layout": {
          "autotypenumbers": "strict",
          "colorway": [
           "#636efa",
           "#EF553B",
           "#00cc96",
           "#ab63fa",
           "#FFA15A",
           "#19d3f3",
           "#FF6692",
           "#B6E880",
           "#FF97FF",
           "#FECB52"
          ],
          "font": {
           "color": "#f2f5fa"
          },
          "hovermode": "closest",
          "hoverlabel": {
           "align": "left"
          },
          "paper_bgcolor": "rgb(17,17,17)",
          "plot_bgcolor": "rgb(17,17,17)",
          "polar": {
           "bgcolor": "rgb(17,17,17)",
           "angularaxis": {
            "gridcolor": "#506784",
            "linecolor": "#506784",
            "ticks": ""
           },
           "radialaxis": {
            "gridcolor": "#506784",
            "linecolor": "#506784",
            "ticks": ""
           }
          },
          "ternary": {
           "bgcolor": "rgb(17,17,17)",
           "aaxis": {
            "gridcolor": "#506784",
            "linecolor": "#506784",
            "ticks": ""
           },
           "baxis": {
            "gridcolor": "#506784",
            "linecolor": "#506784",
            "ticks": ""
           },
           "caxis": {
            "gridcolor": "#506784",
            "linecolor": "#506784",
            "ticks": ""
           }
          },
          "coloraxis": {
           "colorbar": {
            "outlinewidth": 0,
            "ticks": ""
           }
          },
          "colorscale": {
           "sequential": [
            [
             0.0,
             "#0d0887"
            ],
            [
             0.1111111111111111,
             "#46039f"
            ],
            [
             0.2222222222222222,
             "#7201a8"
            ],
            [
             0.3333333333333333,
             "#9c179e"
            ],
            [
             0.4444444444444444,
             "#bd3786"
            ],
            [
             0.5555555555555556,
             "#d8576b"
            ],
            [
             0.6666666666666666,
             "#ed7953"
            ],
            [
             0.7777777777777778,
             "#fb9f3a"
            ],
            [
             0.8888888888888888,
             "#fdca26"
            ],
            [
             1.0,
             "#f0f921"
            ]
           ],
           "sequentialminus": [
            [
             0.0,
             "#0d0887"
            ],
            [
             0.1111111111111111,
             "#46039f"
            ],
            [
             0.2222222222222222,
             "#7201a8"
            ],
            [
             0.3333333333333333,
             "#9c179e"
            ],
            [
             0.4444444444444444,
             "#bd3786"
            ],
            [
             0.5555555555555556,
             "#d8576b"
            ],
            [
             0.6666666666666666,
             "#ed7953"
            ],
            [
             0.7777777777777778,
             "#fb9f3a"
            ],
            [
             0.8888888888888888,
             "#fdca26"
            ],
            [
             1.0,
             "#f0f921"
            ]
           ],
           "diverging": [
            [
             0,
             "#8e0152"
            ],
            [
             0.1,
             "#c51b7d"
            ],
            [
             0.2,
             "#de77ae"
            ],
            [
             0.3,
             "#f1b6da"
            ],
            [
             0.4,
             "#fde0ef"
            ],
            [
             0.5,
             "#f7f7f7"
            ],
            [
             0.6,
             "#e6f5d0"
            ],
            [
             0.7,
             "#b8e186"
            ],
            [
             0.8,
             "#7fbc41"
            ],
            [
             0.9,
             "#4d9221"
            ],
            [
             1,
             "#276419"
            ]
           ]
          },
          "xaxis": {
           "gridcolor": "#283442",
           "linecolor": "#506784",
           "ticks": "",
           "title": {
            "standoff": 15
           },
           "zerolinecolor": "#283442",
           "automargin": true,
           "zerolinewidth": 2
          },
          "yaxis": {
           "gridcolor": "#283442",
           "linecolor": "#506784",
           "ticks": "",
           "title": {
            "standoff": 15
           },
           "zerolinecolor": "#283442",
           "automargin": true,
           "zerolinewidth": 2
          },
          "scene": {
           "xaxis": {
            "backgroundcolor": "rgb(17,17,17)",
            "gridcolor": "#506784",
            "linecolor": "#506784",
            "showbackground": true,
            "ticks": "",
            "zerolinecolor": "#C8D4E3",
            "gridwidth": 2
           },
           "yaxis": {
            "backgroundcolor": "rgb(17,17,17)",
            "gridcolor": "#506784",
            "linecolor": "#506784",
            "showbackground": true,
            "ticks": "",
            "zerolinecolor": "#C8D4E3",
            "gridwidth": 2
           },
           "zaxis": {
            "backgroundcolor": "rgb(17,17,17)",
            "gridcolor": "#506784",
            "linecolor": "#506784",
            "showbackground": true,
            "ticks": "",
            "zerolinecolor": "#C8D4E3",
            "gridwidth": 2
           }
          },
          "shapedefaults": {
           "line": {
            "color": "#f2f5fa"
           }
          },
          "annotationdefaults": {
           "arrowcolor": "#f2f5fa",
           "arrowhead": 0,
           "arrowwidth": 1
          },
          "geo": {
           "bgcolor": "rgb(17,17,17)",
           "landcolor": "rgb(17,17,17)",
           "subunitcolor": "#506784",
           "showland": true,
           "showlakes": true,
           "lakecolor": "rgb(17,17,17)"
          },
          "title": {
           "x": 0.05
          },
          "updatemenudefaults": {
           "bgcolor": "#506784",
           "borderwidth": 0
          },
          "sliderdefaults": {
           "bgcolor": "#C8D4E3",
           "borderwidth": 1,
           "bordercolor": "rgb(17,17,17)",
           "tickwidth": 0
          },
          "mapbox": {
           "style": "dark"
          }
         }
        },
        "mapbox": {
         "domain": {
          "x": [
           0.0,
           1.0
          ],
          "y": [
           0.0,
           1.0
          ]
         },
         "center": {
          "lat": 60.1695,
          "lon": 24.9354
         },
         "zoom": 12,
         "style": "open-street-map"
        },
        "coloraxis": {
         "colorbar": {
          "title": {
           "text": "speed"
          }
         },
         "colorscale": [
          [
           0.0,
           "rgb(0,0,0)"
          ],
          [
           0.3333333333333333,
           "rgb(230,0,0)"
          ],
          [
           0.6666666666666666,
           "rgb(255,210,0)"
          ],
          [
           1.0,
           "rgb(255,255,255)"
          ]
         ]
        },
        "legend": {
         "tracegroupgap": 0
        },
        "title": {
         "text": "Trajectory of Tram Route 1 – Vehicle 18/1043"
        },
        "margin": {
         "r": 0,
         "t": 0,
         "l": 0,
         "b": 0
        }
       },
       "config": {
        "plotlyServerURL": "https://plot.ly"
       }
      }
     },
     "metadata": {},
     "output_type": "display_data"
    }
   ],
   "source": [
    "# Library imports\n",
    "import duckdb\n",
    "import pandas as pd\n",
    "import plotly.express as px\n",
    "\n",
    "# Path to the Parquet file\n",
    "parquet_file = \"hsl_vehicle_positions.parquet\"\n",
    "\n",
    "# Function that extracts trajectory of one vehicle from route 1\n",
    "def query_tram1_trajectory(parquet_file):\n",
    "    # Connect to DuckDB in-memory database\n",
    "    con = duckdb.connect()\n",
    "    query = f\"\"\"\n",
    "    SELECT *\n",
    "    FROM parquet_scan('{parquet_file}')\n",
    "    WHERE route_id = '2201B'\n",
    "      AND vehicle_id IS NOT NULL\n",
    "      AND latitude IS NOT NULL AND longitude IS NOT NULL\n",
    "    ORDER BY vehicle_id, timestamp\n",
    "    \"\"\"\n",
    "    df = con.execute(query).fetchdf()\n",
    "    con.close()\n",
    "    return df\n",
    "\n",
    "# Function to visualize the trajectory using Plotly\n",
    "def visualize_tram1_trajectory(df):\n",
    "    if df.empty:\n",
    "        print(\"No data available for Tram 1.\")\n",
    "        return\n",
    "    # Optionally filter a single vehicle to visualize\n",
    "    vehicle_id = df['vehicle_id'].unique()[0]\n",
    "    df = df[df['vehicle_id'] == vehicle_id]\n",
    "\n",
    "    fig = px.scatter_mapbox(\n",
    "        df,\n",
    "        lat=\"latitude\",\n",
    "        lon=\"longitude\",\n",
    "        hover_name=\"vehicle_id\",\n",
    "        hover_data=[\"route_id\", \"start_time\", \"direction_id\", \"speed\"],\n",
    "        color=\"speed\",\n",
    "        color_continuous_scale=\"Hot\",\n",
    "        title=f\"Trajectory of Tram Route 1 – Vehicle {vehicle_id}\",\n",
    "        zoom=12\n",
    "    )\n",
    "    fig.update_layout(\n",
    "        mapbox_style=\"open-street-map\",\n",
    "        mapbox_center={\"lat\": 60.1695, \"lon\": 24.9354},  # Centered on Helsinki\n",
    "        margin={\"r\": 0, \"t\": 0, \"l\": 0, \"b\": 0}\n",
    "    )\n",
    "    fig.show()\n",
    "\n",
    "# Optional: Inspect schema\n",
    "def inspect_parquet_schema(parquet_file):\n",
    "    con = duckdb.connect()\n",
    "    query = f\"DESCRIBE SELECT * FROM parquet_scan('{parquet_file}')\"\n",
    "    schema_df = con.execute(query).fetchdf()\n",
    "    con.close()\n",
    "    print(schema_df)\n",
    "\n",
    "# Optional: Preview data\n",
    "def inspect_parquet_head(parquet_file, n=5):\n",
    "    df = pd.read_parquet(parquet_file)\n",
    "    print(\"Columns:\", df.columns.tolist())\n",
    "    print(df.head(n).to_string(index=False))\n",
    "\n",
    "# Main script\n",
    "if __name__ == \"__main__\":\n",
    "    tram1_df = query_tram1_trajectory(parquet_file)\n",
    "    if not tram1_df.empty:\n",
    "        visualize_tram1_trajectory(tram1_df)\n",
    "    else:\n",
    "        print(\"No data found for Tram 1.\")\n"
   ]
  },
  {
   "cell_type": "code",
   "execution_count": null,
   "outputs": [],
   "source": [],
   "metadata": {
    "collapsed": false
   }
  }
 ],
 "metadata": {
  "kernelspec": {
   "display_name": "Python 3",
   "language": "python",
   "name": "python3"
  },
  "language_info": {
   "codemirror_mode": {
    "name": "ipython",
    "version": 2
   },
   "file_extension": ".py",
   "mimetype": "text/x-python",
   "name": "python",
   "nbconvert_exporter": "python",
   "pygments_lexer": "ipython2",
   "version": "2.7.6"
  }
 },
 "nbformat": 4,
 "nbformat_minor": 0
}
